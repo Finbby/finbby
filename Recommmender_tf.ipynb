{
 "cells": [
  {
   "cell_type": "code",
   "execution_count": 1,
   "metadata": {},
   "outputs": [],
   "source": [
    "import pandas as pd\n",
    "import numpy as np\n",
    "import tensorflow as tf\n",
    "from tensorflow import keras"
   ]
  },
  {
   "cell_type": "code",
   "execution_count": 7,
   "metadata": {},
   "outputs": [
    {
     "data": {
      "text/html": [
       "<div>\n",
       "<style scoped>\n",
       "    .dataframe tbody tr th:only-of-type {\n",
       "        vertical-align: middle;\n",
       "    }\n",
       "\n",
       "    .dataframe tbody tr th {\n",
       "        vertical-align: top;\n",
       "    }\n",
       "\n",
       "    .dataframe thead th {\n",
       "        text-align: right;\n",
       "    }\n",
       "</style>\n",
       "<table border=\"1\" class=\"dataframe\">\n",
       "  <thead>\n",
       "    <tr style=\"text-align: right;\">\n",
       "      <th></th>\n",
       "      <th>title</th>\n",
       "      <th>sports</th>\n",
       "      <th>cooking</th>\n",
       "      <th>books</th>\n",
       "      <th>cinema</th>\n",
       "      <th>gaming</th>\n",
       "    </tr>\n",
       "  </thead>\n",
       "  <tbody>\n",
       "    <tr>\n",
       "      <th>0</th>\n",
       "      <td>How to Train for a Marathon</td>\n",
       "      <td>0.80</td>\n",
       "      <td>0.05</td>\n",
       "      <td>0.05</td>\n",
       "      <td>0.05</td>\n",
       "      <td>0.05</td>\n",
       "    </tr>\n",
       "    <tr>\n",
       "      <th>1</th>\n",
       "      <td>The Best Recipes for a Cozy Winter</td>\n",
       "      <td>0.05</td>\n",
       "      <td>0.80</td>\n",
       "      <td>0.05</td>\n",
       "      <td>0.05</td>\n",
       "      <td>0.05</td>\n",
       "    </tr>\n",
       "    <tr>\n",
       "      <th>2</th>\n",
       "      <td>The Top 10 Books of 2023</td>\n",
       "      <td>0.05</td>\n",
       "      <td>0.05</td>\n",
       "      <td>0.80</td>\n",
       "      <td>0.05</td>\n",
       "      <td>0.05</td>\n",
       "    </tr>\n",
       "    <tr>\n",
       "      <th>3</th>\n",
       "      <td>The Oscars 2023: Predictions and Controversies</td>\n",
       "      <td>0.05</td>\n",
       "      <td>0.05</td>\n",
       "      <td>0.05</td>\n",
       "      <td>0.80</td>\n",
       "      <td>0.05</td>\n",
       "    </tr>\n",
       "    <tr>\n",
       "      <th>4</th>\n",
       "      <td>The Rise of Indie Games in the Gaming Industry</td>\n",
       "      <td>0.05</td>\n",
       "      <td>0.05</td>\n",
       "      <td>0.05</td>\n",
       "      <td>0.05</td>\n",
       "      <td>0.80</td>\n",
       "    </tr>\n",
       "  </tbody>\n",
       "</table>\n",
       "</div>"
      ],
      "text/plain": [
       "                                            title  sports  cooking  books  \\\n",
       "0                     How to Train for a Marathon    0.80     0.05   0.05   \n",
       "1              The Best Recipes for a Cozy Winter    0.05     0.80   0.05   \n",
       "2                        The Top 10 Books of 2023    0.05     0.05   0.80   \n",
       "3  The Oscars 2023: Predictions and Controversies    0.05     0.05   0.05   \n",
       "4  The Rise of Indie Games in the Gaming Industry    0.05     0.05   0.05   \n",
       "\n",
       "   cinema  gaming  \n",
       "0    0.05    0.05  \n",
       "1    0.05    0.05  \n",
       "2    0.05    0.05  \n",
       "3    0.80    0.05  \n",
       "4    0.05    0.80  "
      ]
     },
     "execution_count": 7,
     "metadata": {},
     "output_type": "execute_result"
    }
   ],
   "source": [
    "# Load item dataset\n",
    "item_data = pd.read_csv('./data/article.csv')\n",
    "\n",
    "print(item_data.head())"
   ]
  },
  {
   "cell_type": "code",
   "execution_count": 10,
   "metadata": {},
   "outputs": [
    {
     "name": "stdout",
     "output_type": "stream",
     "text": [
      "title       object\n",
      "sports     float64\n",
      "cooking    float64\n",
      "books      float64\n",
      "cinema     float64\n",
      "gaming     float64\n",
      "dtype: object\n",
      "(49, 6)\n"
     ]
    }
   ],
   "source": [
    "#check item_data data type\n",
    "print(item_data.dtypes)\n",
    "print(item_data.shape)"
   ]
  },
  {
   "cell_type": "code",
   "execution_count": 16,
   "metadata": {},
   "outputs": [
    {
     "name": "stdout",
     "output_type": "stream",
     "text": [
      "     sports   cooking     books    cinema    gaming\n",
      "0  0.773956  0.438878  0.858598  0.697368  0.094177\n",
      "1  0.975622  0.761140  0.786064  0.128114  0.450386\n",
      "2  0.370798  0.926765  0.643865  0.822762  0.443414\n",
      "3  0.227239  0.554585  0.063817  0.827631  0.631664\n",
      "4  0.758088  0.354526  0.970698  0.893121  0.778383\n",
      "sports     float64\n",
      "cooking    float64\n",
      "books      float64\n",
      "cinema     float64\n",
      "gaming     float64\n",
      "dtype: object\n",
      "(49, 5)\n"
     ]
    }
   ],
   "source": [
    "#create user_data dummy dataset\n",
    "rng = np.random.default_rng(seed=42)\n",
    "user_data = pd.DataFrame(rng.random((49,5)), columns=['sports', 'cooking', 'books', 'cinema', 'gaming'])\n",
    "print(user_data.head())\n",
    "print(user_data.dtypes)\n",
    "print(user_data.shape)\n"
   ]
  },
  {
   "cell_type": "code",
   "execution_count": 18,
   "metadata": {},
   "outputs": [
    {
     "name": "stdout",
     "output_type": "stream",
     "text": [
      "[[0.8  0.05 0.05 0.05 0.05]\n",
      " [0.05 0.8  0.05 0.05 0.05]\n",
      " [0.05 0.05 0.8  0.05 0.05]\n",
      " [0.05 0.05 0.05 0.8  0.05]\n",
      " [0.05 0.05 0.05 0.05 0.8 ]]\n",
      "(49, 5)\n"
     ]
    }
   ],
   "source": [
    "#convert item features to numpy array\n",
    "item_features = item_data[['sports', 'cooking', 'books', 'cinema', 'gaming']].values.astype(np.float32)\n",
    "print(item_features[:5])\n",
    "print(item_features.shape)"
   ]
  },
  {
   "cell_type": "code",
   "execution_count": 20,
   "metadata": {},
   "outputs": [
    {
     "name": "stdout",
     "output_type": "stream",
     "text": [
      "[[0.77395606 0.43887845 0.85859793 0.697368   0.09417735]\n",
      " [0.97562236 0.7611397  0.7860643  0.12811363 0.45038593]\n",
      " [0.37079802 0.92676497 0.6438651  0.8227616  0.4434142 ]\n",
      " [0.22723871 0.5545848  0.06381726 0.8276312  0.6316644 ]\n",
      " [0.75808775 0.35452595 0.970698   0.8931211  0.7783835 ]]\n",
      "(49, 5)\n"
     ]
    }
   ],
   "source": [
    "#convert item features to numpy array\n",
    "user_features = user_data[['sports', 'cooking', 'books', 'cinema', 'gaming']].values.astype(np.float32)\n",
    "print(user_features[:5])\n",
    "print(user_features.shape)"
   ]
  },
  {
   "cell_type": "code",
   "execution_count": 8,
   "metadata": {},
   "outputs": [],
   "source": [
    "# Define the TensorFlow model\n",
    "model = tf.keras.Sequential([\n",
    "    tf.keras.layers.Dense(10, activation='relu', input_shape=(5,)),\n",
    "    tf.keras.layers.Dense(1, activation='linear')\n",
    "])\n",
    "\n",
    "# Compile the model\n",
    "model.compile(optimizer='adam', loss='mean_squared_error')"
   ]
  },
  {
   "cell_type": "code",
   "execution_count": 9,
   "metadata": {},
   "outputs": [
    {
     "name": "stdout",
     "output_type": "stream",
     "text": [
      "Epoch 1/10\n",
      "2/2 [==============================] - 1s 3ms/step - loss: 0.0725\n",
      "Epoch 2/10\n",
      "2/2 [==============================] - 0s 0s/step - loss: 0.0703\n",
      "Epoch 3/10\n",
      "2/2 [==============================] - 0s 3ms/step - loss: 0.0682\n",
      "Epoch 4/10\n",
      "2/2 [==============================] - 0s 5ms/step - loss: 0.0666\n",
      "Epoch 5/10\n",
      "2/2 [==============================] - 0s 6ms/step - loss: 0.0647\n",
      "Epoch 6/10\n",
      "2/2 [==============================] - 0s 611us/step - loss: 0.0630\n",
      "Epoch 7/10\n",
      "2/2 [==============================] - 0s 0s/step - loss: 0.0613\n",
      "Epoch 8/10\n",
      "2/2 [==============================] - 0s 4ms/step - loss: 0.0599\n",
      "Epoch 9/10\n",
      "2/2 [==============================] - 0s 4ms/step - loss: 0.0585\n",
      "Epoch 10/10\n",
      "2/2 [==============================] - 0s 7ms/step - loss: 0.0572\n"
     ]
    },
    {
     "data": {
      "text/plain": [
       "<keras.callbacks.History at 0x1e393b8ed70>"
      ]
     },
     "execution_count": 9,
     "metadata": {},
     "output_type": "execute_result"
    }
   ],
   "source": [
    "# Train the model\n",
    "model.fit(item_features, user_profile, epochs=10)"
   ]
  },
  {
   "cell_type": "code",
   "execution_count": 10,
   "metadata": {},
   "outputs": [
    {
     "name": "stdout",
     "output_type": "stream",
     "text": [
      "2/2 [==============================] - 0s 0s/step\n"
     ]
    }
   ],
   "source": [
    "# Predict item ratings using the trained model\n",
    "item_data['predicted_rating'] = model.predict(item_features)\n",
    "\n",
    "# Sort the items based on predicted ratings in descending order\n",
    "item_data = item_data.sort_values(by='predicted_rating', ascending=False)\n",
    "\n",
    "# Get the top-k recommendations\n",
    "top_k = 5\n",
    "recommendations = item_data.head(top_k)['title']"
   ]
  },
  {
   "cell_type": "code",
   "execution_count": 11,
   "metadata": {},
   "outputs": [
    {
     "name": "stdout",
     "output_type": "stream",
     "text": [
      "Top 5 recommendations for the user:\n",
      "18     The Best Sports Games for Mobile Devices in 2023\n",
      "28    Marvel vs DC: Which Cinematic Universe is Better?\n",
      "36                       How to Read More Books in 2023\n",
      "27             How to Write a Bestselling Novel in 2023\n",
      "15          The Most Anticipated Fantasy Novels of 2023\n",
      "Name: title, dtype: object\n"
     ]
    }
   ],
   "source": [
    "# Print the recommendations\n",
    "print(\"Top\", top_k, \"recommendations for the user:\")\n",
    "print(recommendations)"
   ]
  }
 ],
 "metadata": {
  "kernelspec": {
   "display_name": "base",
   "language": "python",
   "name": "python3"
  },
  "language_info": {
   "codemirror_mode": {
    "name": "ipython",
    "version": 3
   },
   "file_extension": ".py",
   "mimetype": "text/x-python",
   "name": "python",
   "nbconvert_exporter": "python",
   "pygments_lexer": "ipython3",
   "version": "3.10.9"
  },
  "orig_nbformat": 4
 },
 "nbformat": 4,
 "nbformat_minor": 2
}
